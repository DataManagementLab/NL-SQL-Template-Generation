{
 "cells": [
  {
   "cell_type": "code",
   "execution_count": 32,
   "metadata": {
    "collapsed": true
   },
   "outputs": [],
   "source": [
    "import argparse\n",
    "import json, commentjson\n",
    "import os"
   ]
  },
  {
   "cell_type": "code",
   "execution_count": 95,
   "metadata": {},
   "outputs": [],
   "source": [
    "schemafile = 'spider/tables.json'\n",
    "jsonlist = json.loads(open(schemafile, 'r').read())\n",
    "db = [i for i in jsonlist if i['db_id'] == 'geo'][0]"
   ]
  },
  {
   "cell_type": "code",
   "execution_count": 54,
   "metadata": {},
   "outputs": [],
   "source": [
    "schema = {}\n",
    "schema['types'] = {'TEXT': 0, 'NUMBER': 1, 'BOOLEAN': 2, 'TIME': 3, 'OTHERS': 4}\n",
    "schema['defaults'] = {db['table_names_original'][i]: {'utt': db['table_names'][i]} for i in\n",
    "                              range(len(db['table_names']))}\n",
    "schema['ents'] = {}"
   ]
  },
  {
   "cell_type": "code",
   "execution_count": 55,
   "metadata": {},
   "outputs": [],
   "source": [
    "i=0; table = db['table_names_original'][0]\n",
    "columns = [col[1] for col in db['column_names_original'] if col[0] == i]\n",
    "utts = [col[1] for col in db['column_names'] if col[0] == i]\n",
    "types = [db['column_types'][j] for j in range(len(db['column_names'])) if db['column_names'][j][0] == i]\n",
    "coldict = {columns[j]: {'index': True, 'type': types[j], 'utt': utts[j]} for j in range(len(utts))}\n",
    "schema['ents'][table] = coldict"
   ]
  },
  {
   "cell_type": "code",
   "execution_count": 59,
   "metadata": {},
   "outputs": [
    {
     "data": {
      "text/plain": [
       "{'types': {'TEXT': 0, 'NUMBER': 1, 'BOOLEAN': 2, 'TIME': 3, 'OTHERS': 4},\n",
       " 'defaults': {'state': {'utt': 'state'},\n",
       "  'city': {'utt': 'city'},\n",
       "  'border_info': {'utt': 'border info'},\n",
       "  'highlow': {'utt': 'highlow'},\n",
       "  'lake': {'utt': 'lake'},\n",
       "  'mountain': {'utt': 'mountain'},\n",
       "  'river': {'utt': 'river'}},\n",
       " 'ents': {'state': {'state_name': {'index': True,\n",
       "    'type': 'text',\n",
       "    'utt': 'state name'},\n",
       "   'population': {'index': True, 'type': 'number', 'utt': 'population'},\n",
       "   'area': {'index': True, 'type': 'number', 'utt': 'area'},\n",
       "   'country_name': {'index': True, 'type': 'text', 'utt': 'country name'},\n",
       "   'capital': {'index': True, 'type': 'text', 'utt': 'capital'},\n",
       "   'density': {'index': True, 'type': 'number', 'utt': 'density'}}}}"
      ]
     },
     "execution_count": 59,
     "metadata": {},
     "output_type": "execute_result"
    }
   ],
   "source": [
    "schema"
   ]
  },
  {
   "cell_type": "code",
   "execution_count": 60,
   "metadata": {},
   "outputs": [],
   "source": [
    "for i, table in enumerate(db['table_names_original']):\n",
    "    columns = [col[1] for col in db['column_names_original'] if col[0] == i]\n",
    "    utts = [col[1] for col in db['column_names'] if col[0] == i]\n",
    "    types = [db['column_types'][j] for j in range(len(db['column_names'])) if db['column_names'][j][0] == i]\n",
    "    coldict = {columns[j]: {'index': True, 'type': types[j], 'utt': utts[j]} for j in range(len(utts))}\n",
    "    schema['ents'][table] = coldict"
   ]
  },
  {
   "cell_type": "code",
   "execution_count": 68,
   "metadata": {},
   "outputs": [
    {
     "name": "stdout",
     "output_type": "stream",
     "text": [
      "(city.state_name,state.state_name)\n",
      "(border_info.border,state.state_name)\n",
      "(border_info.state_name,state.state_name)\n",
      "(highlow.state_name,state.state_name)\n",
      "(mountain.state_name,state.state_name)\n",
      "(river.traverse,state.state_name)\n"
     ]
    }
   ],
   "source": [
    "schema['links'] = {table : {} for table in db['table_names_original']}\n",
    "for col_ind1,col_ind2 in db['foreign_keys']:\n",
    "    col1 = db['column_names_original'][col_ind1][1]\n",
    "    col2 = db['column_names_original'][col_ind2][1]\n",
    "    table1 = db['table_names_original'][db['column_names_original'][col_ind1][0]]\n",
    "    table2 = db['table_names_original'][db['column_names_original'][col_ind2][0]]\n",
    "    print('({}.{},{}.{})'.format(table1, col1, table2, col2))\n",
    "    schema['links'][table1][table2] = col1\n",
    "    schema['links'][table2][table1] = col2"
   ]
  },
  {
   "cell_type": "code",
   "execution_count": 70,
   "metadata": {},
   "outputs": [
    {
     "data": {
      "text/plain": [
       "{'types': {'TEXT': 0, 'NUMBER': 1, 'BOOLEAN': 2, 'TIME': 3, 'OTHERS': 4},\n",
       " 'defaults': {'state': {'utt': 'state'},\n",
       "  'city': {'utt': 'city'},\n",
       "  'border_info': {'utt': 'border info'},\n",
       "  'highlow': {'utt': 'highlow'},\n",
       "  'lake': {'utt': 'lake'},\n",
       "  'mountain': {'utt': 'mountain'},\n",
       "  'river': {'utt': 'river'}},\n",
       " 'ents': {'state': {'state_name': {'index': True,\n",
       "    'type': 'text',\n",
       "    'utt': 'state name'},\n",
       "   'population': {'index': True, 'type': 'number', 'utt': 'population'},\n",
       "   'area': {'index': True, 'type': 'number', 'utt': 'area'},\n",
       "   'country_name': {'index': True, 'type': 'text', 'utt': 'country name'},\n",
       "   'capital': {'index': True, 'type': 'text', 'utt': 'capital'},\n",
       "   'density': {'index': True, 'type': 'number', 'utt': 'density'}},\n",
       "  'city': {'city_name': {'index': True, 'type': 'text', 'utt': 'city name'},\n",
       "   'population': {'index': True, 'type': 'number', 'utt': 'population'},\n",
       "   'country_name': {'index': True, 'type': 'text', 'utt': 'country name'},\n",
       "   'state_name': {'index': True, 'type': 'text', 'utt': 'state name'}},\n",
       "  'border_info': {'state_name': {'index': True,\n",
       "    'type': 'text',\n",
       "    'utt': 'state name'},\n",
       "   'border': {'index': True, 'type': 'text', 'utt': 'border'}},\n",
       "  'highlow': {'state_name': {'index': True,\n",
       "    'type': 'text',\n",
       "    'utt': 'state name'},\n",
       "   'highest_elevation': {'index': True,\n",
       "    'type': 'text',\n",
       "    'utt': 'highest elevation'},\n",
       "   'lowest_point': {'index': True, 'type': 'text', 'utt': 'lowest point'},\n",
       "   'highest_point': {'index': True, 'type': 'text', 'utt': 'highest point'},\n",
       "   'lowest_elevation': {'index': True,\n",
       "    'type': 'text',\n",
       "    'utt': 'lowest elevation'}},\n",
       "  'lake': {'lake_name': {'index': True, 'type': 'text', 'utt': 'lake name'},\n",
       "   'area': {'index': True, 'type': 'number', 'utt': 'area'},\n",
       "   'country_name': {'index': True, 'type': 'text', 'utt': 'country name'},\n",
       "   'state_name': {'index': True, 'type': 'text', 'utt': 'state name'}},\n",
       "  'mountain': {'mountain_name': {'index': True,\n",
       "    'type': 'text',\n",
       "    'utt': 'mountain name'},\n",
       "   'mountain_altitude': {'index': True,\n",
       "    'type': 'number',\n",
       "    'utt': 'mountain altitude'},\n",
       "   'country_name': {'index': True, 'type': 'text', 'utt': 'country name'},\n",
       "   'state_name': {'index': True, 'type': 'text', 'utt': 'state name'}},\n",
       "  'river': {'river_name': {'index': True, 'type': 'text', 'utt': 'river name'},\n",
       "   'length': {'index': True, 'type': 'number', 'utt': 'length'},\n",
       "   'country_name': {'index': True, 'type': 'text', 'utt': 'country name'},\n",
       "   'traverse': {'index': True, 'type': 'text', 'utt': 'traverse'}}},\n",
       " 'links': {'state': {'city': 'state_name',\n",
       "   'border_info': 'state_name',\n",
       "   'highlow': 'state_name',\n",
       "   'mountain': 'state_name',\n",
       "   'river': 'state_name'},\n",
       "  'city': {'state': 'state_name'},\n",
       "  'border_info': {'state': 'state_name'},\n",
       "  'highlow': {'state': 'state_name'},\n",
       "  'lake': {},\n",
       "  'mountain': {'state': 'state_name'},\n",
       "  'river': {'state': 'traverse'}}}"
      ]
     },
     "execution_count": 70,
     "metadata": {},
     "output_type": "execute_result"
    }
   ],
   "source": [
    "schema"
   ]
  },
  {
   "cell_type": "code",
   "execution_count": 98,
   "metadata": {
    "collapsed": true
   },
   "outputs": [],
   "source": [
    "jsonlist = json.loads(open(schemafile, 'r').read())\n",
    "formula = [i for i in jsonlist if i['db_id'] == 'formula_1'][0]"
   ]
  },
  {
   "cell_type": "code",
   "execution_count": 99,
   "metadata": {},
   "outputs": [],
   "source": [
    "for i,colpair in enumerate(formula['column_names']):\n",
    "    if colpair[0] == 10:\n",
    "        formula['column_names'][i][0] = 0\n",
    "    elif colpair[0] <= 10 and colpair[0] >= 0:\n",
    "        formula['column_names'][i][0] += 1"
   ]
  },
  {
   "cell_type": "code",
   "execution_count": 108,
   "metadata": {},
   "outputs": [],
   "source": [
    "with open('spider/tables_small.json', 'w') as f: \n",
    "    commentjson.dump(formula, f , indent = 2)"
   ]
  },
  {
   "cell_type": "code",
   "execution_count": null,
   "metadata": {
    "collapsed": true
   },
   "outputs": [],
   "source": []
  },
  {
   "cell_type": "code",
   "execution_count": null,
   "metadata": {
    "collapsed": true
   },
   "outputs": [],
   "source": []
  },
  {
   "cell_type": "code",
   "execution_count": null,
   "metadata": {
    "collapsed": true
   },
   "outputs": [],
   "source": []
  }
 ],
 "metadata": {
  "kernelspec": {
   "display_name": "Python 3",
   "language": "python",
   "name": "python3"
  },
  "language_info": {
   "codemirror_mode": {
    "name": "ipython",
    "version": 3
   },
   "file_extension": ".py",
   "mimetype": "text/x-python",
   "name": "python",
   "nbconvert_exporter": "python",
   "pygments_lexer": "ipython3",
   "version": "3.6.0"
  }
 },
 "nbformat": 4,
 "nbformat_minor": 2
}
